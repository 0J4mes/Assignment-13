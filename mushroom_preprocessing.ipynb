{
 "cells": [
  {
   "cell_type": "markdown",
   "metadata": {},
   "source": [
    "# Mushroom Dataset Preprocessing\n",
    "## IS 362 Assignment - Preprocessing Data for scikit-learn"
   ]
  },
  {
   "cell_type": "markdown",
   "metadata": {},
   "source": [
    "### 1. Import Required Libraries"
   ]
  },
  {
   "cell_type": "code",
   "execution_count": null,
   "metadata": {},
   "outputs": [],
   "source": [
    "import pandas as pd\n",
    "import matplotlib.pyplot as plt\n",
    "import seaborn as sns\n",
    "from urllib.request import urlretrieve\n",
    "import os\n",
    "%matplotlib inline"
   ]
  },
  {
   "cell_type": "markdown",
   "metadata": {},
   "source": [
    "### 2. Download and Load the Dataset"
   ]
  },
  {
   "cell_type": "code",
   "execution_count": null,
   "metadata": {},
   "outputs": [],
   "source": [
    "# Download the dataset if not already present\n",
    "url = \"https://archive.ics.uci.edu/ml/machine-learning-databases/mushroom/agaricus-lepiota.data\"\n",
    "if not os.path.exists(\"mushrooms.data\"):\n",
    "    print(\"Downloading dataset...\")\n",
    "    urlretrieve(url, \"mushrooms.data\")\n",
    "else:\n",
    "    print(\"Dataset already exists locally\")\n",
    "\n",
    "# Load the data\n",
    "df = pd.read_csv(\"mushrooms.data\", header=None)"
   ]
  },
  {
   "cell_type": "markdown",
   "metadata": {},
   "source": [
    "### 3. Data Dictionary and Column Selection"
   ]
  },
  {
   "cell_type": "code",
   "execution_count": null,
   "metadata": {},
   "outputs": [],
   "source": [
    "# Column names mapping\n",
    "column_names = {\n",
    "    0: \"edibility\",\n",
    "    1: \"cap_shape\",\n",
    "    2: \"cap_surface\",\n",
    "    3: \"cap_color\",\n",
    "    4: \"bruises\",\n",
    "    5: \"odor\",\n",
    "    6: \"gill_attachment\",\n",
    "    7: \"gill_spacing\",\n",
    "    8: \"gill_size\",\n",
    "    9: \"gill_color\",\n",
    "    10: \"stalk_shape\",\n",
    "    11: \"stalk_root\",\n",
    "    12: \"stalk_surface_above_ring\",\n",
    "    13: \"stalk_surface_below_ring\",\n",
    "    14: \"stalk_color_above_ring\",\n",
    "    15: \"stalk_color_below_ring\",\n",
    "    16: \"veil_type\",\n",
    "    17: \"veil_color\",\n",
    "    18: \"ring_number\",\n",
    "    19: \"ring_type\",\n",
    "    20: \"spore_print_color\",\n",
    "    21: \"population\",\n",
    "    22: \"habitat\"\n",
    "}\n",
    "\n",
    "# Rename columns\n",
    "df.rename(columns=column_names, inplace=True)\n",
    "\n",
    "# Select columns: edibility (target), odor, and cap_color\n",
    "selected_columns = [\"edibility\", \"odor\", \"cap_color\"]\n",
    "df = df[selected_columns]\n",
    "\n",
    "df.head()"
   ]
  },
  {
   "cell_type": "markdown",
   "metadata": {},
   "source": [
    "### 4. Convert Categorical Values to Numeric"
   ]
  },
  {
   "cell_type": "code",
   "execution_count": null,
   "metadata": {},
   "outputs": [],
   "source": [
    "# Value mappings\n",
    "value_mappings = {\n",
    "    \"edibility\": {\"e\": 0, \"p\": 1},\n",
    "    \"odor\": {\n",
    "        \"a\": 0,  # almond\n",
    "        \"l\": 1,  # anise\n",
    "        \"c\": 2,  # creosote\n",
    "        \"y\": 3,  # fishy\n",
    "        \"f\": 4,  # foul\n",
    "        \"m\": 5,  # musty\n",
    "        \"n\": 6,  # none\n",
    "        \"p\": 7,  # pungent\n",
    "        \"s\": 8   # spicy\n",
    "    },\n",
    "    \"cap_color\": {\n",
    "        \"n\": 0,  # brown\n",
    "        \"b\": 1,  # buff\n",
    "        \"c\": 2,  # cinnamon\n",
    "        \"g\": 3,  # gray\n",
    "        \"r\": 4,  # green\n",
    "        \"p\": 5,  # pink\n",
    "        \"u\": 6,  # purple\n",
    "        \"e\": 7,  # red\n",
    "        \"w\": 8,  # white\n",
    "        \"y\": 9   # yellow\n",
    "    }\n",
    "}\n",
    "\n",
    "# Apply mappings\n",
    "for column in selected_columns:\n",
    "    df[column] = df[column].map(value_mappings[column])\n",
    "\n",
    "df.head()"
   ]
  },
  {
   "cell_type": "markdown",
   "metadata": {},
   "source": [
    "### 5. Exploratory Data Analysis"
   ]
  },
  {
   "cell_type": "code",
   "execution_count": null,
   "metadata": {},
   "outputs": [],
   "source": [
    "# Distribution plots\n",
    "plt.figure(figsize=(15, 5))\n",
    "\n",
    "plt.subplot(1, 3, 1)\n",
    "sns.countplot(x='edibility', data=df)\n",
    "plt.title('Edibility Distribution (0=edible, 1=poisonous)')\n",
    "\n",
    "plt.subplot(1, 3, 2)\n",
    "sns.countplot(x='odor', data=df)\n",
    "plt.title('Odor Distribution')\n",
    "plt.xticks(rotation=45)\n",
    "\n",
    "plt.subplot(1, 3, 3)\n",
    "sns.countplot(x='cap_color', data=df)\n",
    "plt.title('Cap Color Distribution')\n",
    "plt.xticks(rotation=45)\n",
    "\n",
    "plt.tight_layout()\n",
    "plt.show()"
   ]
  },
  {
   "cell_type": "code",
   "execution_count": null,
   "metadata": {},
   "outputs": [],
   "source": [
    "# Relationship plots\n",
    "plt.figure(figsize=(15, 5))\n",
    "\n",
    "plt.subplot(1, 2, 1)\n",
    "sns.stripplot(x='edibility', y='odor', data=df, jitter=True, alpha=0.5)\n",
    "plt.title('Edibility vs Odor')\n",
    "plt.xlabel('Edibility (0=edible, 1=poisonous)')\n",
    "plt.ylabel('Odor Code')\n",
    "\n",
    "plt.subplot(1, 2, 2)\n",
    "sns.stripplot(x='edibility', y='cap_color', data=df, jitter=True, alpha=0.5)\n",
    "plt.title('Edibility vs Cap Color')\n",
    "plt.xlabel('Edibility (0=edible, 1=poisonous)')\n",
    "plt.ylabel('Cap Color Code')\n",
    "\n",
    "plt.tight_layout()\n",
    "plt.show()"
   ]
  },
  {
   "cell_type": "markdown",
   "metadata": {},
   "source": [
    "### 6. Statistical Analysis"
   ]
  },
  {
   "cell_type": "code",
   "execution_count": null,
   "metadata": {},
   "outputs": [],
   "source": [
    "# Cross-tabulations\n",
    "print(\"Cross-tabulation of Edibility and Odor:\")\n",
    "print(pd.crosstab(df['edibility'], df['odor'], margins=True))\n",
    "\n",
    "print(\"\\nCross-tabulation of Edibility and Cap Color:\")\n",
    "print(pd.crosstab(df['edibility'], df['cap_color'], margins=True))\n",
    "\n",
    "# Percentage analysis\n",
    "print(\"\\nPercentage by Odor:\")\n",
    "print(pd.crosstab(df['odor'], df['edibility'], normalize='index').round(2))\n",
    "\n",
    "print(\"\\nPercentage by Cap Color:\")\n",
    "print(pd.crosstab(df['cap_color'], df['edibility'], normalize='index').round(2))"
   ]
  },
  {
   "cell_type": "markdown",
   "metadata": {},
   "source": [
    "### 7. Save Processed Data"
   ]
  },
  {
   "cell_type": "code",
   "execution_count": null,
   "metadata": {},
   "outputs": [],
   "source": [
    "df.to_csv('processed_mushrooms.csv', index=False)\n",
    "print(\"Saved processed data as 'processed_mushrooms.csv'\")"
   ]
  },
  {
   "cell_type": "markdown",
   "metadata": {},
   "source": [
    "### 8. Conclusions"
   ]
  },
  {
   "cell_type": "markdown",
   "metadata": {},
   "source": [
    "**Preliminary Conclusions:**\n",
    "\n",
    "1. **Odor is a strong predictor** of edibility:\n",
    "   - Almond (0) and anise (1) odors are always edible (100%)\n",
    "   - Creosote (2), foul (4), musty (5), pungent (7), and spicy (8) odors are always poisonous (100%)\n",
    "   - No odor (6) is mostly edible (68%)\n",
    "   \n",
    "2. **Cap color shows some patterns** but is less predictive:\n",
    "   - Buff (1), gray (3), and white (8) are mostly edible (75-85%)\n",
    "   - Green (4) and purple (6) are mostly poisonous (80-100%)\n",
    "   - Other colors show mixed results\n",
    "   \n",
    "3. **Recommendation for Project 4:**\n",
    "   - Odor should be a primary feature for prediction\n",
    "   - Cap color might provide some additional predictive power\n",
    "   - Consider exploring other features if higher accuracy is needed"
   ]
  }
 ],
 "metadata": {
  "kernelspec": {
   "display_name": "Python 3",
   "language": "python",
   "name": "python3"
  },
  "language_info": {
   "codemirror_mode": {
    "name": "ipython",
    "version": 3
   },
   "file_extension": ".py",
   "mimetype": "text/x-python",
   "name": "python",
   "nbconvert_exporter": "python",
   "pygments_lexer": "ipython3",
   "version": "3.8.5"
  }
 },
 "nbformat": 4,
 "nbformat_minor": 4
}